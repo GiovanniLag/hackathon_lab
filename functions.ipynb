{
 "cells": [
  {
   "cell_type": "code",
   "execution_count": 5,
   "metadata": {},
   "outputs": [],
   "source": [
    "import cv2"
   ]
  },
  {
   "cell_type": "code",
   "execution_count": 6,
   "metadata": {},
   "outputs": [],
   "source": [
    "def getFromFile(file,info):\n",
    "    cap = cv2.VideoCapture(file)\n",
    "    ret, frame = cap.read()\n",
    "    cap.release()\n",
    "    frame_rgb = cv2.cvtColor(frame, cv2.COLOR_BGR2RGB)\n",
    "    if(info):\n",
    "        print(f'The shape of the image is {frame_rgb.shape}')\n",
    "    return frame_rgb"
   ]
  },
  {
   "cell_type": "code",
   "execution_count": 7,
   "metadata": {},
   "outputs": [],
   "source": [
    "def MaskImg(file,corners):\n",
    "    image = getFromFile(file,0)\n",
    "    mask = np.zeros(image.shape[:2], dtype=np.uint8)#CHIEDI\n",
    "    mask_corners = np.array(corners)\n",
    "    cv2.drawContours(mask, [mask_corners], -1, 255, -1)\n",
    "#     plt.imshow(mask, cmap='gray')\n",
    "    masked_image = cv2.bitwise_and(image,image,mask=mask)\n",
    "    plt.imshow(masked_image)\n",
    "    return masked_image"
   ]
  },
  {
   "cell_type": "code",
   "execution_count": 8,
   "metadata": {},
   "outputs": [],
   "source": [
    "def getLimits(b,g,r,rangeWidth):\n",
    "    arr = [[[b,g,r]]]\n",
    "    color = np.uint8(arr)\n",
    "    hsvColor = cv2.cvtColor(color, cv2.COLOR_BGR2HSV)\n",
    "    lowerLimit = [hsvColor[0][0][0]-rangeWidth,40,40]\n",
    "    upperLimit = [hsvColor[0][0][0]+rangeWidth,255,255]\n",
    "    return [lowerLimit,upperLimit]"
   ]
  },
  {
   "cell_type": "code",
   "execution_count": null,
   "metadata": {},
   "outputs": [],
   "source": []
  }
 ],
 "metadata": {
  "kernelspec": {
   "display_name": "Python 3",
   "language": "python",
   "name": "python3"
  },
  "language_info": {
   "codemirror_mode": {
    "name": "ipython",
    "version": 3
   },
   "file_extension": ".py",
   "mimetype": "text/x-python",
   "name": "python",
   "nbconvert_exporter": "python",
   "pygments_lexer": "ipython3",
   "version": "3.8.5"
  }
 },
 "nbformat": 4,
 "nbformat_minor": 4
}
