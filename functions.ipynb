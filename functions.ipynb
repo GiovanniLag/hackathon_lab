{
 "cells": [
  {
   "cell_type": "code",
   "execution_count": 5,
   "metadata": {},
   "outputs": [],
   "source": [
    "import cv2"
   ]
  },
  {
   "cell_type": "markdown",
   "metadata": {},
   "source": [
    "## Utilities"
   ]
  },
  {
   "cell_type": "code",
   "execution_count": 6,
   "metadata": {},
   "outputs": [],
   "source": [
    "def getFromFile(file,info):\n",
    "    cap = cv2.VideoCapture(file)\n",
    "    ret, frame = cap.read()\n",
    "    cap.release()\n",
    "    frame_rgb = cv2.cvtColor(frame, cv2.COLOR_BGR2RGB)\n",
    "    if(info):\n",
    "        print(f'The shape of the image is {frame_rgb.shape}')\n",
    "    return frame_rgb"
   ]
  },
  {
   "cell_type": "code",
   "execution_count": 7,
   "metadata": {},
   "outputs": [],
   "source": [
    "def MaskImg(file,corners):\n",
    "    image = getFromFile(file,0)\n",
    "    mask = np.zeros(image.shape[:2], dtype=np.uint8)#CHIEDI\n",
    "    mask_corners = np.array(corners)\n",
    "    cv2.drawContours(mask, [mask_corners], -1, 255, -1)\n",
    "#     plt.imshow(mask, cmap='gray')\n",
    "    masked_image = cv2.bitwise_and(image,image,mask=mask)\n",
    "    plt.imshow(masked_image)\n",
    "    return masked_image"
   ]
  },
  {
   "cell_type": "code",
   "execution_count": 4,
   "metadata": {},
   "outputs": [],
   "source": [
    "#get a single fram from a video\n",
    "def getFrame(file,num):\n",
    "    cap = cv2.VideoCapture(file)\n",
    "    n_frames = int(cap.get(cv2.CAP_PROP_FRAME_COUNT))\n",
    "    print(f'The video contains {n_frames} frames')\n",
    "    if(num>=n_frames):\n",
    "        print(\"FRAME OUT OF INDEX\")\n",
    "        return -1\n",
    "    else:\n",
    "        cap.set(cv2.CAP_PROP_POS_FRAMES, num)\n",
    "        ret, frame = cap.read()\n",
    "        cap.release()\n",
    "        frame_rgb = cv2.cvtColor(frame, cv2.COLOR_BGR2RGB)\n",
    "        return frame_rgb"
   ]
  },
  {
   "cell_type": "markdown",
   "metadata": {},
   "source": [
    "## Convert bgr to hsv"
   ]
  },
  {
   "cell_type": "code",
   "execution_count": 1,
   "metadata": {},
   "outputs": [],
   "source": [
    "#this functions converts rgb into hsv format and returns two arrays: the lower and the upper limit to apply to the mask\n",
    "def getLimits(b,g,r,rangeWidth):\n",
    "    arr = [[[b,g,r]]]\n",
    "    color = np.uint8(arr)\n",
    "    hsvColor = cv2.cvtColor(color, cv2.COLOR_BGR2HSV)\n",
    "    lowerLimit = [hsvColor[0][0][0]-rangeWidth,40,40]\n",
    "    upperLimit = [hsvColor[0][0][0]+rangeWidth,255,255]\n",
    "    return [lowerLimit,upperLimit]"
   ]
  },
  {
   "cell_type": "markdown",
   "metadata": {},
   "source": [
    "## object tracking"
   ]
  },
  {
   "cell_type": "code",
   "execution_count": 2,
   "metadata": {},
   "outputs": [],
   "source": [
    "#track a falling object in a video\n",
    "def track(r,g,b,width,file,outfilename,corners):\n",
    "    cap = cv2.VideoCapture(file)\n",
    "    #get video information\n",
    "    n_frames = int(cap.get(cv2.CAP_PROP_FRAME_COUNT))\n",
    "    frame_width = int(cap.get(cv2.CAP_PROP_FRAME_WIDTH))\n",
    "    frame_height = int(cap.get(cv2.CAP_PROP_FRAME_HEIGHT))\n",
    "    fps = cap.get(cv2.CAP_PROP_FPS)\n",
    "    \n",
    "# outfilename = \"tracked.mp4\"   \n",
    "\n",
    "    fourcc = cv2.VideoWriter_fourcc(*'XVID')\n",
    "    out = cv2.VideoWriter(outfilename, fourcc, fps, (frame_width, frame_height))\n",
    "    #fix pyplot axes\n",
    "    plt.axis([0,780,0,1280])\n",
    "\n",
    "    for frame_index in range(n_frames):\n",
    "        ret, frame_rgb = cap.read()\n",
    "        #apply mask given the corners (passed as a parameter)\n",
    "        mask = np.zeros(frame_rgb.shape[:2], dtype=np.uint8)#CHIEDI\n",
    "        mask_corners = np.array(corners)\n",
    "        cv2.drawContours(mask, [mask_corners], -1, 255, -1)\n",
    "        masked_image = cv2.bitwise_and(frame_rgb,frame_rgb,mask=mask)\n",
    "\n",
    "        hsv_image =  cv2.cvtColor(masked_image, cv2.COLOR_BGR2HSV)\n",
    "\n",
    "        blue_regions = cv2.inRange(hsv_image, np.array(lowerLimit), np.array(upperLimit))#lower and upper limit are to be enclosed in an np array\n",
    "\n",
    "        contours, _ = cv2.findContours(blue_regions, cv2.RETR_TREE, cv2.CHAIN_APPROX_SIMPLE)#CHIEDI\n",
    "        blue_dots_positions = []\n",
    "\n",
    "        for contour in contours:\n",
    "    #       print(f\"area = {cv2.contourArea(contour)}\")\n",
    "          if cv2.contourArea(contour) > 100: # Minimum contour area threshold\n",
    "            M = cv2.moments(contour)\n",
    "    #         print(M)\n",
    "            center_x = M[\"m10\"] / M[\"m00\"]\n",
    "            center_y = M[\"m01\"] / M[\"m00\"]#CHIEDI\n",
    "            print(f\"Centroid of dot: (x, y) = ({center_x:.1f}, {center_y:.1f})\")\n",
    "    \n",
    "            plt.scatter(center_x, center_y, color='blue', marker='o', facecolor='none', s=200);#s is the size of the scattered contour\n",
    "            blue_dots_positions.append([center_x, center_y])\n",
    "            #draw circle around the found position\n",
    "            cv2.circle(frame_rgb,(int(center_x),int(center_y)),30,(0,0,0),5)\n",
    "        out.write(frame_rgb)\n",
    "        \n",
    "    cap.release()\n",
    "    out.release()\n",
    "    print(f'Video written to {outfilename}')"
   ]
  },
  {
   "cell_type": "code",
   "execution_count": 3,
   "metadata": {},
   "outputs": [],
   "source": [
    "def frameCenter(frame,r,g,b,width,area):\n",
    "    lims=getLimits(b,g,r,width)\n",
    "    lowerLimit = lims[0]\n",
    "    upperLimit = lims[1]\n",
    "    hsv_image =  cv2.cvtColor(frame, cv2.COLOR_BGR2HSV)\n",
    "    \n",
    "    blue_regions = cv2.inRange(hsv_image, np.array(lowerLimit), np.array(upperLimit))#lower and upper limit are to be enclosed in an np array\n",
    "    \n",
    "    contours, _ = cv2.findContours(blue_regions, cv2.RETR_TREE, cv2.CHAIN_APPROX_SIMPLE)#CHIEDI\n",
    "#     blue_dots_positions = []\n",
    "\n",
    "    for contour in contours:\n",
    "#       print(f\"area = {cv2.contourArea(contour)}\")\n",
    "      if cv2.contourArea(contour) > area: # Minimum contour area threshold\n",
    "        M = cv2.moments(contour)\n",
    "        center_x = M[\"m10\"] / M[\"m00\"]\n",
    "        center_y = M[\"m01\"] / M[\"m00\"]#CHIEDI\n",
    "        print(f\"Centroid of dot: (x, y) = ({center_x:.1f}, {center_y:.1f})\")\n",
    "#         plt.scatter(center_x, center_y, color='blue', marker='o', facecolor='none', s=200);#s is the size of the scattered contour\n",
    "#         blue_dots_positions.append([center_x, center_y])\n",
    "        return [center_x,center_y]"
   ]
  },
  {
   "cell_type": "code",
   "execution_count": null,
   "metadata": {},
   "outputs": [],
   "source": []
  }
 ],
 "metadata": {
  "kernelspec": {
   "display_name": "Python 3",
   "language": "python",
   "name": "python3"
  },
  "language_info": {
   "codemirror_mode": {
    "name": "ipython",
    "version": 3
   },
   "file_extension": ".py",
   "mimetype": "text/x-python",
   "name": "python",
   "nbconvert_exporter": "python",
   "pygments_lexer": "ipython3",
   "version": "3.8.5"
  }
 },
 "nbformat": 4,
 "nbformat_minor": 4
}
