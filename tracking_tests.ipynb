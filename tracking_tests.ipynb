{
 "cells": [
  {
   "cell_type": "code",
   "execution_count": 9,
   "metadata": {},
   "outputs": [],
   "source": [
    "import cv2\n",
    "import numpy as np\n",
    "import matplotlib.pyplot as plt\n",
    "from sklearn.cluster import KMeans\n",
    "from concurrent.futures import ThreadPoolExecutor"
   ]
  },
  {
   "cell_type": "markdown",
   "metadata": {},
   "source": [
    "## Read video file and applay mask"
   ]
  },
  {
   "cell_type": "code",
   "execution_count": 2,
   "metadata": {},
   "outputs": [],
   "source": [
    "#load mp4 test video\n",
    "cap = cv2.VideoCapture('test_data/test_pallina_piccola_telefono.mp4')\n",
    "\n",
    "#set video start position (in milliseconds)\n",
    "cap.set(cv2.CAP_PROP_POS_MSEC,11800)\n",
    "\n",
    "#get video properties\n",
    "frame_width = int(cap.get(cv2.CAP_PROP_FRAME_WIDTH))\n",
    "frame_height = int(cap.get(cv2.CAP_PROP_FRAME_HEIGHT))\n",
    "fps = int(cap.get(cv2.CAP_PROP_FPS))\n",
    "\n",
    "#create a mask to get only the tube\n",
    "ret, frame = cap.read()\n",
    "mask = np.zeros_like(frame)\n",
    "cv2.rectangle(mask, (150, 50), (380, 800), (255, 255, 255), -1)\n",
    "\n",
    "\n",
    "#apply mask to video and put frames in a list\n",
    "frames = []\n",
    "while(cap.isOpened()):\n",
    "    ret, frame = cap.read()\n",
    "    if ret == True:\n",
    "        frame = cv2.bitwise_and(frame, mask)\n",
    "        frames.append(frame)\n",
    "    else:\n",
    "        break\n",
    "\n",
    "cap.release()\n"
   ]
  },
  {
   "cell_type": "markdown",
   "metadata": {},
   "source": [
    "## Compute difference between frames $n$ and $n-1$\n",
    "we compute the difference and then produce a video to see the result"
   ]
  },
  {
   "cell_type": "code",
   "execution_count": 3,
   "metadata": {},
   "outputs": [],
   "source": [
    "#compute difference between consecutive frames\n",
    "diff_frames = []\n",
    "for i in range(len(frames)-1):\n",
    "    diff = cv2.absdiff(frames[i], frames[i+1])\n",
    "    diff_frames.append(diff)"
   ]
  },
  {
   "cell_type": "code",
   "execution_count": 4,
   "metadata": {},
   "outputs": [],
   "source": [
    "#create video with difference frames\n",
    "fourcc = cv2.VideoWriter_fourcc(*'XVID')\n",
    "out = cv2.VideoWriter('test_data/diff.avi', fourcc, fps, (frame_width, frame_height))\n",
    "for i in range(len(diff_frames)):\n",
    "    out.write(diff_frames[i])\n",
    "out.release()\n"
   ]
  },
  {
   "cell_type": "markdown",
   "metadata": {},
   "source": [
    "## Create new mask"
   ]
  },
  {
   "cell_type": "code",
   "execution_count": 7,
   "metadata": {},
   "outputs": [],
   "source": [
    "import warnings\n",
    "\n",
    "warnings.filterwarnings(\"ignore\", message=\"KMeans is known to have a memory leak on Windows\")"
   ]
  },
  {
   "cell_type": "code",
   "execution_count": 8,
   "metadata": {},
   "outputs": [
    {
     "name": "stdout",
     "output_type": "stream",
     "text": [
      "402\n"
     ]
    }
   ],
   "source": [
    "bw_frames = []\n",
    "for i in range(len(diff_frames)):\n",
    "    bw = cv2.cvtColor(diff_frames[i], cv2.COLOR_BGR2GRAY)\n",
    "    #rescale image to 0-255\n",
    "    bw = cv2.normalize(bw, None, 0, 255, cv2.NORM_MINMAX)\n",
    "    bw_frames.append(bw)\n"
   ]
  },
  {
   "cell_type": "code",
   "execution_count": 10,
   "metadata": {},
   "outputs": [],
   "source": [
    "#find centroid of the ball in each frame using k-means clustering (k=1)\n",
    "def find_centroid(frame):\n",
    "    y, x = np.where(frame == 255)\n",
    "    coordinates = np.column_stack([x, y])\n",
    "    if len(coordinates) > 0:\n",
    "        kmeans = KMeans(n_clusters=1)\n",
    "        kmeans.fit(coordinates)\n",
    "        centroid = kmeans.cluster_centers_\n",
    "        cv2.circle(frame, (int(centroid[0][0]), int(centroid[0][1])), 10, (0, 0, 255), 5)\n",
    "        return centroid"
   ]
  },
  {
   "cell_type": "code",
   "execution_count": 13,
   "metadata": {},
   "outputs": [],
   "source": [
    "with ThreadPoolExecutor() as executor:\n",
    "    centroids = list(executor.map(find_centroid, bw_frames))\n"
   ]
  },
  {
   "cell_type": "code",
   "execution_count": 27,
   "metadata": {},
   "outputs": [],
   "source": [
    "#create a new mask to better isolate the falling ball\n",
    "#mask is circular and is centered in the centroid of the ball\n",
    "\n",
    "#last frame uses same centroid as previous frame\n",
    "centroids.append(centroids[-1])\n",
    "\n",
    "frames_msked = []\n",
    "for i in range(len(frames)):\n",
    "    mask = np.zeros_like(frames[0])\n",
    "    cv2.circle(mask, (int(centroids[i][0][0]), int(centroids[i][0][1])), 20, (255, 255, 255), -1)\n",
    "    frame = cv2.bitwise_and(frames[i], mask)\n",
    "    frames_msked.append(frame)\n"
   ]
  },
  {
   "cell_type": "code",
   "execution_count": 28,
   "metadata": {},
   "outputs": [],
   "source": [
    "#make a video with masked frames\n",
    "fourcc = cv2.VideoWriter_fourcc(*'XVID')\n",
    "out = cv2.VideoWriter('test_data/masked.avi', fourcc, fps, (frame_width, frame_height))\n",
    "for i in range(len(frames_msked)):\n",
    "    out.write(frames_msked[i])\n",
    "out.release()"
   ]
  }
 ],
 "metadata": {
  "kernelspec": {
   "display_name": "base",
   "language": "python",
   "name": "python3"
  },
  "language_info": {
   "codemirror_mode": {
    "name": "ipython",
    "version": 3
   },
   "file_extension": ".py",
   "mimetype": "text/x-python",
   "name": "python",
   "nbconvert_exporter": "python",
   "pygments_lexer": "ipython3",
   "version": "3.8.15"
  },
  "orig_nbformat": 4
 },
 "nbformat": 4,
 "nbformat_minor": 2
}
