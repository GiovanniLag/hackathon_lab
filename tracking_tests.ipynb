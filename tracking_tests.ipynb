{
 "cells": [
  {
   "cell_type": "code",
   "execution_count": 1,
   "metadata": {},
   "outputs": [],
   "source": [
    "import cv2\n",
    "import numpy as np\n",
    "import matplotlib.pyplot as plt\n",
    "from sklearn.cluster import KMeans\n",
    "from concurrent.futures import ThreadPoolExecutor"
   ]
  },
  {
   "cell_type": "markdown",
   "metadata": {},
   "source": [
    "## Read video file and applay mask"
   ]
  },
  {
   "cell_type": "code",
   "execution_count": 16,
   "metadata": {},
   "outputs": [],
   "source": [
    "#load mp4 test video\n",
    "cap = cv2.VideoCapture('test_data/test_pallina_piccola_telefono.mp4')\n",
    "\n",
    "start_time = 11.8 #set video start position (in seconds)\n",
    "end_time = 18 #set video end position (in seconds)\n",
    "\n",
    "#set video start position (in milliseconds)\n",
    "cap.set(cv2.CAP_PROP_POS_MSEC, start_time*1000)\n",
    "\n",
    "#get video properties\n",
    "frame_width = int(cap.get(cv2.CAP_PROP_FRAME_WIDTH))\n",
    "frame_height = int(cap.get(cv2.CAP_PROP_FRAME_HEIGHT))\n",
    "fps = int(cap.get(cv2.CAP_PROP_FPS))\n",
    "\n",
    "#create a mask to get only the tube\n",
    "ret, frame = cap.read()\n",
    "mask = np.zeros_like(frame)\n",
    "cv2.rectangle(mask, (150, 50), (380, 800), (255, 255, 255), -1)\n",
    "\n",
    "\n",
    "#apply mask to video and put frames in a list\n",
    "last_frame = int(end_time*fps)\n",
    "frame_counter = 0\n",
    "frames = []\n",
    "while(cap.isOpened()):\n",
    "    ret, frame = cap.read()\n",
    "    if ret == True:\n",
    "        frame = cv2.bitwise_and(frame, mask)\n",
    "        frames.append(frame)\n",
    "        frame_counter += 1\n",
    "    else:\n",
    "        break\n",
    "\n",
    "cap.release()\n"
   ]
  },
  {
   "cell_type": "code",
   "execution_count": 21,
   "metadata": {},
   "outputs": [
    {
     "name": "stdout",
     "output_type": "stream",
     "text": [
      "29\n"
     ]
    }
   ],
   "source": [
    "print(fps)"
   ]
  },
  {
   "cell_type": "code",
   "execution_count": 20,
   "metadata": {},
   "outputs": [],
   "source": [
    "#write video with mask applied\n",
    "mask_width = 380 - 150\n",
    "mask_height = 800 - 50\n",
    "fourcc = cv2.VideoWriter_fourcc(*'XVID')\n",
    "out = cv2.VideoWriter('test_data/ret_masked.avi', fourcc, fps, (mask_width, mask_height))\n",
    "for i, frame in enumerate(frames):\n",
    "    if i * (1/fps) > 5.5:\n",
    "        break\n",
    "    cropped_frame = frame[50:800, 150:380]\n",
    "    out.write(cropped_frame)\n",
    "out.release()\n"
   ]
  },
  {
   "cell_type": "markdown",
   "metadata": {},
   "source": [
    "## Compute difference between frames $n$ and $n-1$\n",
    "we compute the difference and then produce a video to see the result"
   ]
  },
  {
   "cell_type": "code",
   "execution_count": 4,
   "metadata": {},
   "outputs": [],
   "source": [
    "#compute difference between consecutive frames\n",
    "diff_frames = []\n",
    "for i in range(len(frames)-1):\n",
    "    diff = cv2.absdiff(frames[i], frames[i+1])\n",
    "    diff_frames.append(diff)"
   ]
  },
  {
   "cell_type": "code",
   "execution_count": 5,
   "metadata": {},
   "outputs": [],
   "source": [
    "#create video with difference frames\n",
    "fourcc = cv2.VideoWriter_fourcc(*'XVID')\n",
    "out = cv2.VideoWriter('test_data/diff.avi', fourcc, fps, (frame_width, frame_height))\n",
    "for i in range(len(diff_frames)):\n",
    "    out.write(diff_frames[i])\n",
    "out.release()\n"
   ]
  },
  {
   "cell_type": "markdown",
   "metadata": {},
   "source": [
    "## Create new mask\n",
    "The mask is made in the following wat:\n",
    "1) find centroids of \"light\" ball using KMeans\n",
    "2) make circular mask at centroids"
   ]
  },
  {
   "cell_type": "code",
   "execution_count": 6,
   "metadata": {},
   "outputs": [],
   "source": [
    "import warnings\n",
    "\n",
    "warnings.filterwarnings(\"ignore\", message=\"KMeans is known to have a memory leak on Windows\")"
   ]
  },
  {
   "cell_type": "code",
   "execution_count": 7,
   "metadata": {},
   "outputs": [],
   "source": [
    "bw_frames = []\n",
    "for i in range(len(diff_frames)):\n",
    "    bw = cv2.cvtColor(diff_frames[i], cv2.COLOR_BGR2GRAY)\n",
    "    #rescale image to 0-255\n",
    "    bw = cv2.normalize(bw, None, 0, 255, cv2.NORM_MINMAX)\n",
    "    bw_frames.append(bw)\n"
   ]
  },
  {
   "cell_type": "code",
   "execution_count": 8,
   "metadata": {},
   "outputs": [],
   "source": [
    "#find centroid of the ball in each frame using k-means clustering (k=1)\n",
    "def find_centroid(frame):\n",
    "    y, x = np.where(frame == 255)\n",
    "    coordinates = np.column_stack([x, y])\n",
    "    if len(coordinates) > 0:\n",
    "        kmeans = KMeans(n_clusters=1)\n",
    "        kmeans.fit(coordinates)\n",
    "        centroid = kmeans.cluster_centers_\n",
    "        cv2.circle(frame, (int(centroid[0][0]), int(centroid[0][1])), 10, (0, 0, 255), 5)\n",
    "        return centroid"
   ]
  },
  {
   "cell_type": "code",
   "execution_count": 9,
   "metadata": {},
   "outputs": [],
   "source": [
    "with ThreadPoolExecutor() as executor:\n",
    "    centroids = list(executor.map(find_centroid, bw_frames))\n"
   ]
  },
  {
   "cell_type": "code",
   "execution_count": 10,
   "metadata": {},
   "outputs": [],
   "source": [
    "#create a new mask to better isolate the falling ball\n",
    "#mask is circular and is centered in the centroid of the ball\n",
    "\n",
    "#last frame uses same centroid as previous frame\n",
    "centroids.append(centroids[-1])\n",
    "\n",
    "frames_msked = []\n",
    "for i in range(len(frames)):\n",
    "    mask = np.zeros_like(frames[0])\n",
    "    cv2.circle(mask, (int(centroids[i][0][0]), int(centroids[i][0][1])), 20, (255, 255, 255), -1)\n",
    "    frame = cv2.bitwise_and(frames[i], mask)\n",
    "    frames_msked.append(frame)\n"
   ]
  },
  {
   "cell_type": "code",
   "execution_count": 11,
   "metadata": {},
   "outputs": [],
   "source": [
    "#make a video with masked frames\n",
    "fourcc = cv2.VideoWriter_fourcc(*'XVID')\n",
    "out = cv2.VideoWriter('test_data/masked.avi', fourcc, fps, (frame_width, frame_height))\n",
    "for i in range(len(frames_msked)):\n",
    "    out.write(frames_msked[i])\n",
    "out.release()"
   ]
  },
  {
   "cell_type": "markdown",
   "metadata": {},
   "source": [
    "## Track the ball"
   ]
  },
  {
   "cell_type": "code",
   "execution_count": 12,
   "metadata": {},
   "outputs": [],
   "source": [
    "def getLimits(b,g,r,rangeWidth):\n",
    "    arr = [[[b,g,r]]]\n",
    "    color = np.uint8(arr)\n",
    "    hsvColor = cv2.cvtColor(color, cv2.COLOR_BGR2HSV)\n",
    "    lowerLimit = [hsvColor[0][0][0]-rangeWidth,40,40]\n",
    "    upperLimit = [hsvColor[0][0][0]+rangeWidth,255,255]\n",
    "    return [lowerLimit,upperLimit]"
   ]
  },
  {
   "cell_type": "code",
   "execution_count": 15,
   "metadata": {},
   "outputs": [],
   "source": [
    "def frameCenter(frame,color,width,area):\n",
    "    b,g,r = color\n",
    "    lims=getLimits(b,g,r,width)\n",
    "    lowerLimit = lims[0]\n",
    "    upperLimit = lims[1]\n",
    "    hsv_image =  cv2.cvtColor(frame, cv2.COLOR_BGR2HSV)\n",
    "    \n",
    "    blue_regions = cv2.inRange(hsv_image, np.array(lowerLimit), np.array(upperLimit))#lower and upper limit are to be enclosed in an np array\n",
    "    \n",
    "    contours, _ = cv2.findContours(blue_regions, cv2.RETR_TREE, cv2.CHAIN_APPROX_SIMPLE)#CHIEDI\n",
    "#     blue_dots_positions = []\n",
    "\n",
    "    for contour in contours:\n",
    "#       print(f\"area = {cv2.contourArea(contour)}\")\n",
    "      if cv2.contourArea(contour) > area: # Minimum contour area threshold\n",
    "        M = cv2.moments(contour)\n",
    "        center_x = M[\"m10\"] / M[\"m00\"]\n",
    "        center_y = M[\"m01\"] / M[\"m00\"]#CHIEDI\n",
    "        print(f\"Centroid of dot: (x, y) = ({center_x:.1f}, {center_y:.1f})\")\n",
    "#         plt.scatter(center_x, center_y, color='blue', marker='o', facecolor='none', s=200);#s is the size of the scattered contour\n",
    "#         blue_dots_positions.append([center_x, center_y])\n",
    "        return (center_x,center_y)"
   ]
  },
  {
   "cell_type": "code",
   "execution_count": 18,
   "metadata": {},
   "outputs": [
    {
     "name": "stdout",
     "output_type": "stream",
     "text": [
      "[None, None, None, None, None, None, None, None, None, None, None, None, None, None, None, None, None, None, None, None, None, None, None, None, None, None, None, None, None, None, None, None, None, None, None, None, None, None, None, None, None, None, None, None, None, None, None, None, None, None, None, None, None, None, None, None, None, None, None, None, None, None, None, None, None, None, None, None, None, None, None, None, None, None, None, None, None, None, None, None, None, None, None, None, None, None, None, None, None, None, None, None, None, None, None, None, None, None, None, None, None, None, None, None, None, None, None, None, None, None, None, None, None, None, None, None, None, None, None, None, None, None, None, None, None, None, None, None, None, None, None, None, None, None, None, None, None, None, None, None, None, None, None, None, None, None, None, None, None, None, None, None, None, None, None, None, None, None, None, None, None, None, None, None, None, None, None, None, None, None, None, None, None, None, None, None, None, None, None, None, None, None, None, None, None, None, None, None, None, None, None, None, None, None, None, None, None, None, None, None, None, None, None, None, None, None, None, None, None, None, None, None, None, None, None, None, None, None, None, None, None, None, None, None, None, None, None, None, None, None, None, None, None, None, None, None, None, None, None, None, None, None, None, None, None, None, None, None, None, None, None, None, None, None, None, None, None, None, None, None, None, None, None, None, None, None, None, None, None, None, None, None, None, None, None, None, None, None, None, None, None, None, None, None, None, None, None, None, None, None, None, None, None, None, None, None, None, None, None, None, None, None, None, None, None, None, None, None, None, None, None, None, None, None, None, None, None, None, None, None, None, None, None, None, None, None, None, None, None, None, None, None, None, None, None, None, None, None, None, None, None, None, None, None, None, None, None, None, None, None, None, None, None, None, None, None, None, None, None, None, None, None, None, None, None, None, None, None, None, None, None, None, None, None, None, None, None, None, None, None, None, None, None, None, None, None, None, None, None, None, None, None, None, None, None, None, None, None, None, None, None, None, None]\n"
     ]
    },
    {
     "ename": "TypeError",
     "evalue": "'NoneType' object is not subscriptable",
     "output_type": "error",
     "traceback": [
      "\u001b[1;31m---------------------------------------------------------------------------\u001b[0m",
      "\u001b[1;31mTypeError\u001b[0m                                 Traceback (most recent call last)",
      "\u001b[1;32m~\\AppData\\Local\\Temp\\ipykernel_34456\\3682483395.py\u001b[0m in \u001b[0;36m<module>\u001b[1;34m\u001b[0m\n\u001b[0;32m     12\u001b[0m \u001b[1;33m\u001b[0m\u001b[0m\n\u001b[0;32m     13\u001b[0m \u001b[1;31m#unpack x,y coordinates tuples\u001b[0m\u001b[1;33m\u001b[0m\u001b[1;33m\u001b[0m\u001b[1;33m\u001b[0m\u001b[0m\n\u001b[1;32m---> 14\u001b[1;33m \u001b[0mx\u001b[0m \u001b[1;33m=\u001b[0m \u001b[1;33m[\u001b[0m\u001b[0mx\u001b[0m\u001b[1;33m[\u001b[0m\u001b[1;36m0\u001b[0m\u001b[1;33m]\u001b[0m \u001b[1;32mfor\u001b[0m \u001b[0mx\u001b[0m \u001b[1;32min\u001b[0m \u001b[0mframe_centers\u001b[0m\u001b[1;33m]\u001b[0m\u001b[1;33m\u001b[0m\u001b[1;33m\u001b[0m\u001b[0m\n\u001b[0m\u001b[0;32m     15\u001b[0m \u001b[0my\u001b[0m \u001b[1;33m=\u001b[0m \u001b[1;33m[\u001b[0m\u001b[0mx\u001b[0m\u001b[1;33m[\u001b[0m\u001b[1;36m1\u001b[0m\u001b[1;33m]\u001b[0m \u001b[1;32mfor\u001b[0m \u001b[0mx\u001b[0m \u001b[1;32min\u001b[0m \u001b[0mframe_centers\u001b[0m\u001b[1;33m]\u001b[0m\u001b[1;33m\u001b[0m\u001b[1;33m\u001b[0m\u001b[0m\n\u001b[0;32m     16\u001b[0m \u001b[1;33m\u001b[0m\u001b[0m\n",
      "\u001b[1;32m~\\AppData\\Local\\Temp\\ipykernel_34456\\3682483395.py\u001b[0m in \u001b[0;36m<listcomp>\u001b[1;34m(.0)\u001b[0m\n\u001b[0;32m     12\u001b[0m \u001b[1;33m\u001b[0m\u001b[0m\n\u001b[0;32m     13\u001b[0m \u001b[1;31m#unpack x,y coordinates tuples\u001b[0m\u001b[1;33m\u001b[0m\u001b[1;33m\u001b[0m\u001b[1;33m\u001b[0m\u001b[0m\n\u001b[1;32m---> 14\u001b[1;33m \u001b[0mx\u001b[0m \u001b[1;33m=\u001b[0m \u001b[1;33m[\u001b[0m\u001b[0mx\u001b[0m\u001b[1;33m[\u001b[0m\u001b[1;36m0\u001b[0m\u001b[1;33m]\u001b[0m \u001b[1;32mfor\u001b[0m \u001b[0mx\u001b[0m \u001b[1;32min\u001b[0m \u001b[0mframe_centers\u001b[0m\u001b[1;33m]\u001b[0m\u001b[1;33m\u001b[0m\u001b[1;33m\u001b[0m\u001b[0m\n\u001b[0m\u001b[0;32m     15\u001b[0m \u001b[0my\u001b[0m \u001b[1;33m=\u001b[0m \u001b[1;33m[\u001b[0m\u001b[0mx\u001b[0m\u001b[1;33m[\u001b[0m\u001b[1;36m1\u001b[0m\u001b[1;33m]\u001b[0m \u001b[1;32mfor\u001b[0m \u001b[0mx\u001b[0m \u001b[1;32min\u001b[0m \u001b[0mframe_centers\u001b[0m\u001b[1;33m]\u001b[0m\u001b[1;33m\u001b[0m\u001b[1;33m\u001b[0m\u001b[0m\n\u001b[0;32m     16\u001b[0m \u001b[1;33m\u001b[0m\u001b[0m\n",
      "\u001b[1;31mTypeError\u001b[0m: 'NoneType' object is not subscriptable"
     ]
    }
   ],
   "source": [
    "#track the ball in each frame\n",
    "color = (52,58,62)\n",
    "width = 18\n",
    "area = 100\n",
    "\n",
    "frame_centers = []\n",
    "for i in range(len(frames_msked)):\n",
    "    frame = frames_msked[i]\n",
    "    frame_centers.append(frameCenter(frame,color,width,area))\n",
    "\n",
    "print(frame_centers)\n",
    "\n",
    "#unpack x,y coordinates tuples\n",
    "x = [x[0] for x in frame_centers]\n",
    "y = [x[1] for x in frame_centers]\n",
    "\n",
    "#plot ball trajectory\n",
    "plt.figure(figsize=(10,10))\n",
    "plt.plot([x[0] for x in frame_centers], [x[1] for x in frame_centers], color='blue', marker='o', linestyle='dashed', linewidth=2, markersize=12)\n",
    "plt.xlim(0, frame_width)\n",
    "plt.ylim(frame_height, 0)\n",
    "plt.show()\n",
    "    "
   ]
  }
 ],
 "metadata": {
  "kernelspec": {
   "display_name": "base",
   "language": "python",
   "name": "python3"
  },
  "language_info": {
   "codemirror_mode": {
    "name": "ipython",
    "version": 3
   },
   "file_extension": ".py",
   "mimetype": "text/x-python",
   "name": "python",
   "nbconvert_exporter": "python",
   "pygments_lexer": "ipython3",
   "version": "3.8.15"
  },
  "orig_nbformat": 4
 },
 "nbformat": 4,
 "nbformat_minor": 2
}
